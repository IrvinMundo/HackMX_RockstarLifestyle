{
 "cells": [
  {
   "cell_type": "code",
   "execution_count": 2,
   "metadata": {},
   "outputs": [],
   "source": [
    "import http.client, urllib.request, urllib.parse, urllib.error, base64"
   ]
  },
  {
   "cell_type": "markdown",
   "metadata": {},
   "source": [
    "### GET Access Token"
   ]
  },
  {
   "cell_type": "code",
   "execution_count": 5,
   "metadata": {},
   "outputs": [
    {
     "name": "stdout",
     "output_type": "stream",
     "text": [
      "b'{\"ErrorType\":\"BREAKDOWN_NOT_FOUND\",\"Message\":\"Breakdown \\'{id}\\' was not found.\"}'\n"
     ]
    }
   ],
   "source": [
    "headers = {\n",
    "    'Ocp-Apim-Subscription-Key': '8ac3957ac3394efab3cb0208b7699926',\n",
    "}\n",
    "\n",
    "params = urllib.parse.urlencode({\n",
    "    # Request parameters\n",
    "    'allowEdit': '{boolean}',\n",
    "})\n",
    "\n",
    "#https://videobreakdown.azure-api.net/Breakdowns/Api/Partner/Breakdowns/{id}/GetAccessToken[?allowEdit]\n",
    "\n",
    "try:\n",
    "    conn = http.client.HTTPSConnection('videobreakdown.azure-api.net')\n",
    "    conn.request(\"GET\", \"/Breakdowns/Api/Partner/Breakdowns/{id}/GetAccessToken?%s\" % params, \"{body}\", headers)\n",
    "    response = conn.getresponse()\n",
    "    data = response.read()\n",
    "    print(data)\n",
    "    conn.close()\n",
    "except Exception as e:\n",
    "    print(\"[Errno {0}] {1}\".format(e.errno, e.strerror))"
   ]
  },
  {
   "cell_type": "markdown",
   "metadata": {},
   "source": [
    "### POST - Add linguistic training data"
   ]
  },
  {
   "cell_type": "code",
   "execution_count": 15,
   "metadata": {},
   "outputs": [
    {
     "name": "stdout",
     "output_type": "stream",
     "text": [
      "b'{\"ErrorType\":\"INVALID_INPUT\",\"Message\":\"Content is not multi-part.\"}'\n"
     ]
    }
   ],
   "source": [
    "headers = {\n",
    "    'Ocp-Apim-Subscription-Key': '8ac3957ac3394efab3cb0208b7699926',\n",
    "}\n",
    "\n",
    "params = urllib.parse.urlencode({\n",
    "    # Request parameters\n",
    "    'description': '{string}',\n",
    "    'groupName': '{string}',\n",
    "})\n",
    "\n",
    "#https://videobreakdown.azure-api.net/Breakdowns/Api/Customization/Language/TrainingData?name={name}&language={language}[&description][&groupName]\n",
    "\n",
    "try:\n",
    "    conn = http.client.HTTPSConnection('videobreakdown.azure-api.net')\n",
    "    conn.request(\"POST\", \"/Breakdowns/Api/Customization/Language/TrainingData?name={name}&language=es-ES&%s\" % params, \"{body}\", headers)\n",
    "    response = conn.getresponse()\n",
    "    data = response.read()\n",
    "    print(data)\n",
    "    conn.close()\n",
    "except Exception as e:\n",
    "    print(\"[Errno {0}] {1}\".format(e.errno, e.strerror))"
   ]
  },
  {
   "cell_type": "markdown",
   "metadata": {},
   "source": [
    "### GET Breakdown"
   ]
  },
  {
   "cell_type": "code",
   "execution_count": null,
   "metadata": {},
   "outputs": [],
   "source": [
    "headers = {\n",
    "    'Ocp-Apim-Subscription-Key': '8ac3957ac3394efab3cb0208b7699926',\n",
    "}\n",
    "\n",
    "params = urllib.parse.urlencode({\n",
    "    # Request parameters\n",
    "    'language': 'es-ES',\n",
    "})\n",
    "\n",
    "try:\n",
    "    conn = http.client.HTTPSConnection('videobreakdown.azure-api.net')\n",
    "    conn.request(\"GET\", \"/Breakdowns/Api/Partner/Breakdowns/{id}?%s\" % params, \"{body}\", headers)\n",
    "    response = conn.getresponse()\n",
    "    data = response.read()\n",
    "    print(data)\n",
    "    conn.close()\n",
    "except Exception as e:\n",
    "    print(\"[Errno {0}] {1}\".format(e.errno, e.strerror))"
   ]
  },
  {
   "cell_type": "markdown",
   "metadata": {},
   "source": [
    "### POST - Upload\n",
    "#### Uploads the given video, starts indexing it and returns a new breakdown id."
   ]
  },
  {
   "cell_type": "code",
   "execution_count": 31,
   "metadata": {},
   "outputs": [
    {
     "name": "stdout",
     "output_type": "stream",
     "text": [
      "b'{\"ErrorType\":\"URL_UNREACHABLE\",\"Message\":\"Url \\'https://photos.app.goo.gl/LvstDWxyVJ38gDoO2.mp4\\' is unreachable.\"}'\n"
     ]
    }
   ],
   "source": [
    "headers = {\n",
    "    'Content-Type': 'multipart/form-data',\n",
    "    'Ocp-Apim-Subscription-Key': '8ac3957ac3394efab3cb0208b7699926',\n",
    "}\n",
    "\n",
    "params = urllib.parse.urlencode({\n",
    "    'videoUrl': 'https://photos.app.goo.gl/LvstDWxyVJ38gDoO2',\n",
    "    'language': 'es-ES',\n",
    "    #'externalId': '{string}',\n",
    "    #'metadata': '{string}',\n",
    "    'description': 'New test for the post upload function',\n",
    "    #'partition': '{string}',\n",
    "    #'callbackUrl': '{string}',\n",
    "    #'indexingPreset': '{string}',\n",
    "    #'streamingPreset': '{string}',\n",
    "    #'linguisticModelId': '{string}',\n",
    "})\n",
    "\n",
    "try:\n",
    "    conn = http.client.HTTPSConnection('videobreakdown.azure-api.net')\n",
    "    conn.request(\"POST\", \"/Breakdowns/Api/Partner/Breakdowns?name=Test3&privacy=Private&%s\" % params, \"{body}\", headers)\n",
    "    response = conn.getresponse()\n",
    "    data = response.read()\n",
    "    print(data)\n",
    "    conn.close()\n",
    "except Exception as e:\n",
    "    print(\"[Errno {0}] {1}\".format(e.errno, e.strerror))"
   ]
  },
  {
   "cell_type": "markdown",
   "metadata": {},
   "source": [
    "# Second version"
   ]
  },
  {
   "cell_type": "code",
   "execution_count": 17,
   "metadata": {},
   "outputs": [],
   "source": [
    "import requests\n",
    "import json"
   ]
  },
  {
   "cell_type": "code",
   "execution_count": 20,
   "metadata": {},
   "outputs": [
    {
     "name": "stdout",
     "output_type": "stream",
     "text": [
      "https://videobreakdown.azure-api.net/Breakdowns/Api/Partner/Breakdowns?name=Test2.mp4&privacy=Private&language=es-ES\n",
      "\"6d8eb9d5bb\"\n"
     ]
    }
   ],
   "source": [
    "headers = {\n",
    "    'Ocp-Apim-Subscription-Key': '8ac3957ac3394efab3cb0208b7699926',\n",
    "}\n",
    "\n",
    "form_data = {'file': open('TestImprovisado.mp4', 'rb')}\n",
    "\n",
    "params = urllib.parse.urlencode({\n",
    "    'name': 'Test2.mp4',\n",
    "    'privacy': 'Private',\n",
    "    'language': 'es-ES'\n",
    "})\n",
    "\n",
    "try:\n",
    "    url = 'https://videobreakdown.azure-api.net/Breakdowns/Api/Partner/Breakdowns?'\n",
    "    r = requests.post(url, params=params, files=form_data, headers=headers)\n",
    "    print(r.url)\n",
    "    print(json.dumps(r.json(), indent=2))\n",
    "except Exception as e:\n",
    "    print(\"[Errno {0}] {1}\".format(e.errno, e.strerror))"
   ]
  },
  {
   "cell_type": "code",
   "execution_count": null,
   "metadata": {},
   "outputs": [],
   "source": []
  },
  {
   "cell_type": "code",
   "execution_count": null,
   "metadata": {},
   "outputs": [],
   "source": []
  }
 ],
 "metadata": {
  "kernelspec": {
   "display_name": "Python 3",
   "language": "python",
   "name": "python3"
  },
  "language_info": {
   "codemirror_mode": {
    "name": "ipython",
    "version": 3
   },
   "file_extension": ".py",
   "mimetype": "text/x-python",
   "name": "python",
   "nbconvert_exporter": "python",
   "pygments_lexer": "ipython3",
   "version": "3.6.4"
  }
 },
 "nbformat": 4,
 "nbformat_minor": 2
}
